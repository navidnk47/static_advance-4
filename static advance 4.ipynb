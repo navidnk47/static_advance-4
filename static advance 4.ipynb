{
  "metadata": {
    "kernelspec": {
      "name": "python",
      "display_name": "Python (Pyodide)",
      "language": "python"
    },
    "language_info": {
      "codemirror_mode": {
        "name": "python",
        "version": 3
      },
      "file_extension": ".py",
      "mimetype": "text/x-python",
      "name": "python",
      "nbconvert_exporter": "python",
      "pygments_lexer": "ipython3",
      "version": "3.8"
    }
  },
  "nbformat_minor": 5,
  "nbformat": 4,
  "cells": [
    {
      "id": "425440ab-ec8c-4cf1-8170-593c6b069414",
      "cell_type": "code",
      "source": "Q1: What is the difference between a t-test and a z-test? Provide an example scenario where you would use each type of test.b",
      "metadata": {
        "trusted": true
      },
      "outputs": [],
      "execution_count": null
    },
    {
      "id": "0fb2859b-75da-42ac-ab3b-6dd58dcdfa8f",
      "cell_type": "code",
      "source": "ANSWER:---\n\nThe primary difference between a t-test and a z-test lies in their applications, particularly regarding the sample size and population variance. Here's a detailed comparison and example scenarios for each test:\n\nt-Test vs. z-Test\nAssumptions and Conditions:\n\nt-Test:\nUsed when the sample size is small (typically ( n < 30 )).\nPopulation variance is unknown.\nAssumes the sample data is drawn from a normally distributed population.\nz-Test:\nUsed when the sample size is large (typically ( n \\geq 30 )).\nPopulation variance is known.\nCan be used even if the population is not normally distributed, thanks to the Central Limit Theorem.\nDistribution:\n\nt-Test:\nUses the t-distribution, which has heavier tails than the normal distribution. This accounts for additional variability due to smaller sample sizes.\nz-Test:\nUses the standard normal distribution (z-distribution).\nExample Scenarios\nt-Test Example:\n\nScenario: A researcher wants to determine if a new drug has a different effect on blood pressure compared to a placebo. The researcher conducts a study with 20 participants and measures their blood pressure changes.\nApplication: Since the sample size is small (20 participants), and the population variance of blood pressure changes is unknown, the researcher would use a t-test.\nz-Test Example:\n\nScenario: A manufacturer claims that the average lifetime of their light bulbs is 1,000 hours. A quality control analyst tests this claim by sampling 100 light bulbs and finds that the sample mean lifetime is 990 hours, knowing the population standard deviation is 50 hours.\nApplication: Since the sample size is large (100 light bulbs), and the population standard deviation is known, the analyst would use a z-test to determine if there is a significant difference from the claimed lifetime.",
      "metadata": {
        "trusted": true
      },
      "outputs": [],
      "execution_count": null
    },
    {
      "id": "8026ee77-7401-40e9-bc97-e26d3189fb01",
      "cell_type": "code",
      "source": "",
      "metadata": {
        "trusted": true
      },
      "outputs": [],
      "execution_count": null
    },
    {
      "id": "3ae8b854-2650-490a-8ca0-e7f094945ea6",
      "cell_type": "code",
      "source": "Q2: Differentiate between one-tailed and two-tailed tests.",
      "metadata": {
        "trusted": true
      },
      "outputs": [],
      "execution_count": null
    },
    {
      "id": "bec1df3f-3125-4eb6-a01c-f9ee5869f127",
      "cell_type": "code",
      "source": "ANSWER:---\n\nOne-tailed and two-tailed tests are types of hypothesis tests used in statistics to determine whether there is evidence to reject a null hypothesis in favor of an alternative hypothesis. The key difference lies in the direction of the hypothesis being tested.\n\nOne-Tailed Test\nDefinition: A one-tailed test, also known as a directional test, examines whether a sample statistic is significantly greater than or less than a specified value in one direction.\n\nTypes:\n\nRight-tailed test: Tests if the sample statistic is greater than a specified value.\nLeft-tailed test: Tests if the sample statistic is less than a specified value.\nHypotheses:\n\nRight-tailed:\nNull Hypothesis (( H_0 )): ( \\mu \\leq \\mu_0 )\nAlternative Hypothesis (( H_A )): ( \\mu > \\mu_0 )\nLeft-tailed:\nNull Hypothesis (( H_0 )): ( \\mu \\geq \\mu_0 )\nAlternative Hypothesis (( H_A )): ( \\mu < \\mu_0 )\nExample:\n\nScenario: A quality control engineer wants to determine if a new manufacturing process produces fewer defective items than the current process, which has a defect rate of 5%.\nApplication: A left-tailed test is used to test if the defect rate is less than 5% (( H_A ): defect rate < 5%).\nTwo-Tailed Test\nDefinition: A two-tailed test, also known as a non-directional test, examines whether a sample statistic is significantly different (either greater or less) from a specified value.\n\nHypotheses:\n\nNull Hypothesis (( H_0 )): ( \\mu = \\mu_0 )\nAlternative Hypothesis (( H_A )): ( \\mu \\neq \\mu_0 )\nExample:\n\nScenario: A researcher wants to test if a new diet affects the average weight of participants. The current average weight is 70 kg.\nApplication: A two-tailed test is used to test if the average weight is different from 70 kg (( H_A ): ( \\mu \\neq 70 ) kg).\nKey Differences\nDirection of Hypothesis:\n\nOne-Tailed: Tests in one direction (either greater or less).\nTwo-Tailed: Tests in both directions (either greater or less).\nCritical Region:\n\nOne-Tailed: The critical region is entirely in one tail of the distribution.\nTwo-Tailed: The critical region is split between both tails of the distribution.\nP-Value Interpretation:\n\nOne-Tailed: The p-value represents the probability of observing the test statistic in the specified direction.\nTwo-Tailed: The p-value represents the probability of observing the test statistic in either direction.\nDecision Making:\n\nOne-Tailed: More power to detect an effect in one direction but cannot detect an effect in the opposite direction.\nTwo-Tailed: Less power to detect an effect in one direction but can detect an effect in either direction.\nChoosing Between One-Tailed and Two-Tailed Tests\nOne-Tailed: Use when you have a specific directional hypothesis (e.g., better or worse, higher or lower).\nTwo-Tailed: Use when you have a non-directional hypothesis and are interested in any significant difference, regardless of direction.\nUnderstanding the difference between these tests helps in selecting the appropriate test based on the research question and the nature of the hypothesis being tested.",
      "metadata": {
        "trusted": true
      },
      "outputs": [],
      "execution_count": null
    },
    {
      "id": "13d70f54-a888-4bbe-95b9-fc6cc8dc99d0",
      "cell_type": "code",
      "source": "",
      "metadata": {
        "trusted": true
      },
      "outputs": [],
      "execution_count": null
    },
    {
      "id": "0daf3710-1e11-4748-9728-f269135b0c0d",
      "cell_type": "code",
      "source": "Q3: Explain the concept of Type 1 and Type 2 errors in hypothesis testing. Provide an example scenario for each type of error.\n\n",
      "metadata": {
        "trusted": true
      },
      "outputs": [],
      "execution_count": null
    },
    {
      "id": "9fcdbeed-0824-4378-a51b-baf94389ded8",
      "cell_type": "code",
      "source": "ANSWER:---\n\nIn hypothesis testing, Type I and Type II errors are fundamental concepts that describe potential mistakes made when making inferences about a population based on sample data. Here's an explanation of each type of error, along with example scenarios:\n\nType I Error (False Positive)\nDefinition: A Type I error occurs when the null hypothesis (( H_0 )) is true, but we mistakenly reject it. This is also known as a \"false positive\" or \"alpha error.\"\n\nProbability: The probability of committing a Type I error is denoted by ( \\alpha ), which is the significance level of the test (e.g., 0.05).\n\nExample Scenario:\n\nScenario: A medical researcher tests a new drug to see if it is more effective than the current standard treatment. The null hypothesis (( H_0 )) states that the new drug has no effect (i.e., its effectiveness is the same as the current treatment).\nError: If the researcher concludes that the new drug is more effective when it actually is not (incorrectly rejecting ( H_0 )), a Type I error has occurred. This could lead to approving a drug that is no better than the existing treatment, potentially causing unnecessary side effects and costs.\nType II Error (False Negative)\nDefinition: A Type II error occurs when the null hypothesis (( H_0 )) is false, but we fail to reject it. This is also known as a \"false negative\" or \"beta error.\"\n\nProbability: The probability of committing a Type II error is denoted by ( \\beta ). The power of a test (1 - ( \\beta )) is the probability of correctly rejecting a false null hypothesis.\n\nExample Scenario:\n\nScenario: A quality control analyst tests whether a new manufacturing process produces fewer defective products than the current process. The null hypothesis (( H_0 )) states that there is no difference in the defect rates between the two processes.\nError: If the analyst concludes that the new process does not reduce defects when it actually does (failing to reject ( H_0 )), a Type II error has occurred. This could lead to missing out on a beneficial improvement in the manufacturing process, resulting in continued production inefficiencies and higher costs.\nSummary of Errors\nType I Error (False Positive):\n\nDefinition: Incorrectly rejecting a true null hypothesis.\nProbability: ( \\alpha ) (significance level).\nConsequence: Believing an effect exists when it doesn't.\nExample: Approving an ineffective drug.\nType II Error (False Negative):\n\nDefinition: Failing to reject a false null hypothesis.\nProbability: ( \\beta ).\nConsequence: Missing a real effect.\nExample: Overlooking an improved manufacturing process.\nUnderstanding and controlling these errors are crucial in hypothesis testing. Researchers often balance the risk of Type I and Type II errors by choosing an appropriate significance level (( \\alpha )) and ensuring sufficient sample size to achieve adequate test power.",
      "metadata": {
        "trusted": true
      },
      "outputs": [],
      "execution_count": null
    },
    {
      "id": "6c033a6b-3a0a-4900-ac49-42674286d9cb",
      "cell_type": "code",
      "source": "",
      "metadata": {
        "trusted": true
      },
      "outputs": [],
      "execution_count": null
    },
    {
      "id": "7a83239b-9019-43fd-b16a-b2d0a484293a",
      "cell_type": "code",
      "source": "Q4: Explain Bayes's theorem with an example.",
      "metadata": {
        "trusted": true
      },
      "outputs": [],
      "execution_count": null
    },
    {
      "id": "7151949b-61e3-43df-b014-47d38ecd6e04",
      "cell_type": "code",
      "source": "\nANSWER:---\n\nBayes's theorem is a fundamental concept in probability theory and statistics that describes how to update the probability of a hypothesis based on new evidence. It relates the conditional and marginal probabilities of random events.\n\nBayes's Theorem Formula\nThe formula for Bayes's theorem is:\n\n[ P(A|B) = \\frac{P(B|A) \\cdot P(A)}{P(B)} ]\n\nWhere:\n\n( P(A|B) ) is the posterior probability: the probability of hypothesis ( A ) given the evidence ( B ).\n( P(B|A) ) is the likelihood: the probability of evidence ( B ) given that ( A ) is true.\n( P(A) ) is the prior probability: the initial probability of hypothesis ( A ) before seeing the evidence.\n( P(B) ) is the marginal likelihood: the total probability of the evidence ( B ).\nExample Scenario\nMedical Diagnosis\nImagine a scenario where a doctor is testing a patient for a rare disease. The disease has a known prevalence, the test has known sensitivity and specificity, and the goal is to determine the probability that the patient has the disease given a positive test result.\n\nPrior Probability (( P(D) )):\n\nPrevalence of the disease in the population: 1% or ( P(D) = 0.01 ).\nProbability of Not Having the Disease (( P(\\neg D) )):\n\n( P(\\neg D) = 1 - P(D) = 0.99 ).\nLikelihood (( P(T|D) )):\n\nSensitivity of the test (true positive rate): 99% or ( P(T|D) = 0.99 ).\nFalse Positive Rate (( P(T|\\neg D) )):\n\nSpecificity of the test: 95% or false positive rate ( P(T|\\neg D) = 1 - 0.95 = 0.05 ).\nEvidence (( P(T) )):\n\nTotal probability of a positive test result, considering both true positives and false positives: [ P(T) = P(T|D) \\cdot P(D) + P(T|\\neg D) \\cdot P(\\neg D) ] [ P(T) = (0.99 \\times 0.01) + (0.05 \\times 0.99) = 0.0099 + 0.0495 = 0.0594 ]\nPosterior Probability (( P(D|T) )):\n\nThe probability that the patient has the disease given a positive test result: [ P(D|T) = \\frac{P(T|D) \\cdot P(D)}{P(T)} = \\frac{0.99 \\times 0.01}{0.0594} \\approx 0.1667 ]\nSo, even though the test is highly sensitive and reasonably specific, the probability that the patient actually has the disease given a positive result is about 16.67%, primarily because the disease is very rare in the population.\n\nInterpretation\nBayes's theorem helps to update the probability of the hypothesis (having the disease) based on new evidence (positive test result). It shows that even with a positive test result, the rarity of the disease significantly affects the final probability, emphasizing the importance of considering prior probabilities in decision-making.\n\nThis example illustrates the power of Bayes's theorem in real-world scenarios, particularly in medical diagnostics, where understanding the impact of test results on disease probabilities is crucial for accurate diagnosis and treatment",
      "metadata": {
        "trusted": true
      },
      "outputs": [],
      "execution_count": null
    },
    {
      "id": "0d168fa7-57d5-44cb-9ba1-c6d2fafea1c6",
      "cell_type": "code",
      "source": "",
      "metadata": {
        "trusted": true
      },
      "outputs": [],
      "execution_count": null
    },
    {
      "id": "e6ac4902-6ef5-4e85-8bac-f9cad4dff68f",
      "cell_type": "code",
      "source": "Q5: What is a confidence interval? How to calculate the confidence interval, explain with an example.\n\n",
      "metadata": {
        "trusted": true
      },
      "outputs": [],
      "execution_count": null
    },
    {
      "id": "d27d1109-7918-43f2-845a-577841ee528d",
      "cell_type": "code",
      "source": "ANSWER:---\n\nA confidence interval is a range of values, derived from sample statistics, that is likely to contain the true population parameter (such as the mean or proportion) with a specified level of confidence. It provides an estimate of the uncertainty around the sample estimate.\n\nComponents of a Confidence Interval\nPoint Estimate: The sample statistic (e.g., sample mean).\nMargin of Error: A measure of the precision of the point estimate, which accounts for the variability in the sample.\nConfidence Level: The probability that the confidence interval contains the true population parameter (e.g., 95%, 99%).\nCalculating a Confidence Interval\nThe general formula for a confidence interval for a population mean when the population standard deviation is known is:\n\n[ \\text{CI} = \\bar{x} \\pm z \\left( \\frac{\\sigma}{\\sqrt{n}} \\right) ]\n\nWhere:\n\n( \\bar{x} ) is the sample mean.\n( z ) is the z-score corresponding to the desired confidence level.\n( \\sigma ) is the population standard deviation.\n( n ) is the sample size.\nIf the population standard deviation is unknown and the sample size is small, the t-distribution is used instead of the z-distribution:\n\n[ \\text{CI} = \\bar{x} \\pm t \\left( \\frac{s}{\\sqrt{n}} \\right) ]\n\nWhere:\n\n( t ) is the t-score from the t-distribution table corresponding to the desired confidence level and degrees of freedom (( df = n - 1 )).\n( s ) is the sample standard deviation.\nExample Calculation\nScenario\nSuppose we have a sample of 30 students, and we want to estimate the average time they spend studying per week. The sample mean study time is 15 hours with a sample standard deviation of 4 hours. We want to calculate a 95% confidence interval for the population mean study time.\n\nSteps to Calculate the Confidence Interval\nIdentify the Sample Statistics:\n\nSample mean (( \\bar{x} )): 15 hours.\nSample standard deviation (( s )): 4 hours.\nSample size (( n )): 30.\nDetermine the Confidence Level:\n\nConfidence level: 95%.\nFind the Appropriate t-Score:\n\nDegrees of freedom (( df )): ( n - 1 = 30 - 1 = 29 ).\nUsing a t-table or calculator, find the t-score for a 95% confidence level and 29 degrees of freedom: ( t \\approx 2.045 ).\nCalculate the Margin of Error: [ \\text{Margin of Error} = t \\left( \\frac{s}{\\sqrt{n}} \\right) = 2.045 \\left( \\frac{4}{\\sqrt{30}} \\right) \\approx 2.045 \\left( \\frac{4}{5.477} \\right) \\approx 1.494 ]\n\nCalculate the Confidence Interval: [ \\text{CI} = \\bar{x} \\pm \\text{Margin of Error} ] [ \\text{CI} = 15 \\pm 1.494 ] [ \\text{CI} = (15 - 1.494, 15 + 1.494) ] [ \\text{CI} = (13.506, 16.494) ]\n\nInterpretation\nWe are 95% confident that the true population mean study time for students is between 13.506 and 16.494 hours per week.\n\nSummary\nA confidence interval provides a range of plausible values for a population parameter. The calculation involves determining the point estimate, margin of error, and using the appropriate distribution (z or t) based on the sample size and whether the population standard deviation is known. This interval offers insight into the precision of the sample estimate and helps quantify the uncertainty inherent in using sample data to make inferences about a population.",
      "metadata": {
        "trusted": true
      },
      "outputs": [],
      "execution_count": null
    },
    {
      "id": "1e374d56-2378-49ca-a872-398e23f00005",
      "cell_type": "code",
      "source": "",
      "metadata": {
        "trusted": true
      },
      "outputs": [],
      "execution_count": null
    },
    {
      "id": "c114b8a2-22a6-4bf5-ad7a-259d041596d7",
      "cell_type": "code",
      "source": "Q6. Use Bayes' Theorem to calculate the probability of an event occurring given prior knowledge of the event's probability and new evidence. Provide a sample problem and solution.\n\n",
      "metadata": {
        "trusted": true
      },
      "outputs": [],
      "execution_count": null
    },
    {
      "id": "c746cd21-eedb-4d89-aadf-645b1ea94023",
      "cell_type": "code",
      "source": "ANSWER:----\n\nExample Scenario\nSuppose we have a medical test for a rare disease. The disease affects 1% of the population. The test is 99% accurate in detecting the disease when it is present (sensitivity) and 95% accurate in identifying healthy individuals (specificity).\n\nWe want to calculate the probability that a person has the disease given that they tested positive.\n\nStep-by-Step Solution\nDefine the Probabilities:\n\n( P(D) ): Prior probability of having the disease (prevalence) = 0.01 (1%).\n( P(\\neg D) ): Prior probability of not having the disease = 1 - 0.01 = 0.99.\n( P(T|D) ): Probability of testing positive given the disease is present (sensitivity) = 0.99.\n( P(T|\\neg D) ): Probability of testing positive given the disease is absent (false positive rate) = 1 - 0.95 = 0.05.\nCalculate the Total Probability of Testing Positive (( P(T) )): [ P(T) = P(T|D) \\cdot P(D) + P(T|\\neg D) \\cdot P(\\neg D) ] [ P(T) = (0.99 \\cdot 0.01) + (0.05 \\cdot 0.99) = 0.0099 + 0.0495 = 0.0594 ]\n\nApply Bayes' Theorem: [ P(D|T) = \\frac{P(T|D) \\cdot P(D)}{P(T)} ] [ P(D|T) = \\frac{0.99 \\cdot 0.01}{0.0594} = \\frac{0.0099}{0.0594} \\approx 0.1667 ]\n\nInterpretation\nThe probability that a person has the disease given a positive test result is approximately 16.67%.\n\nDespite the test being highly sensitive and specific, the probability remains relatively low because the disease is rare in the population. This example highlights the importance of considering the prior probability (prevalence) when interpreting diagnostic test results.\n\nSummary\nBayes' Theorem allows us to update the probability of an event based on new evidence. By considering both the prior probability and the likelihood of the evidence given the event, we can compute the posterior probability, providing a more informed assessment of the event's likelihood",
      "metadata": {
        "trusted": true
      },
      "outputs": [],
      "execution_count": null
    },
    {
      "id": "b2932f0e-3bae-4b4f-8a98-ceeb30f7fe12",
      "cell_type": "code",
      "source": "",
      "metadata": {
        "trusted": true
      },
      "outputs": [],
      "execution_count": null
    },
    {
      "id": "c581686a-bc74-4b55-aedd-d192e193e457",
      "cell_type": "code",
      "source": "Q7. Calculate the 95% confidence interval for a sample of data with a mean of 50 and a standard deviation of 5. Interpret the results.\n\n",
      "metadata": {
        "trusted": true
      },
      "outputs": [],
      "execution_count": null
    },
    {
      "id": "aea722d9-124b-4b2b-b413-1e3c2d03b780",
      "cell_type": "code",
      "source": "ANSWER:---\n\nTo calculate the 95% confidence interval for a sample of data with a given mean and standard deviation, we need to follow these steps:\n\nIdentify the Sample Statistics:\n\nSample mean (( \\bar{x} )): 50\nSample standard deviation (( s )): 5\nSample size (( n )): This information is not provided directly in the question. Let's assume a reasonable sample size, say ( n = 30 ).\nDetermine the Confidence Level:\n\nConfidence level: 95%\nFind the Appropriate Critical Value:\n\nFor a 95% confidence level and a reasonably large sample size, we use the z-distribution (assuming the population standard deviation is unknown but the sample size is large enough for the Central Limit Theory to apply).\nThe z-score for a 95% confidence level is approximately 1.96.\nCalculate the Margin of Error: [ \\text{Margin of Error} = z \\left( \\frac{s}{\\sqrt{n}} \\right) ] [ \\text{Margin of Error} = 1.96 \\left( \\frac{5}{\\sqrt{30}} \\right) ] [ \\text{Margin of Error} = 1.96 \\left( \\frac{5}{5.477} \\right) \\approx 1.96 \\times 0.9129 \\approx 1.788 ]\n\nCalculate the Confidence Interval: [ \\text{CI} = \\bar{x} \\pm \\text{Margin of Error} ] [ \\text{CI} = 50 \\pm 1.788 ] [ \\text{CI} = (50 - 1.788, 50 + 1.788) ] [ \\text{CI} = (48.212, 51.788) ]\n\nInterpretation\nWe are 95% confident that the true population mean lies between 48.212 and 51.788. This means that if we were to take many samples and compute the confidence interval for each sample, approximately 95% of those intervals would contain the true population mean. This interval gives us a range of plausible values for the population mean based on our sample data.\n\nSummary\nA 95% confidence interval provides an estimated range in which the true population parameter is expected to fall, with a specified level of confidence. In this example, given a sample mean of 50 and a standard deviation of 5, the 95% confidence interval is approximately (48.212, 51.788). This range reflects the uncertainty associated with using a sample to estimate the population mean.",
      "metadata": {
        "trusted": true
      },
      "outputs": [],
      "execution_count": null
    },
    {
      "id": "a28eae50-8764-4a38-b366-79bf4b564920",
      "cell_type": "code",
      "source": "",
      "metadata": {
        "trusted": true
      },
      "outputs": [],
      "execution_count": null
    },
    {
      "id": "d8ffb1ec-c731-4eab-a43d-d95d08ca3a42",
      "cell_type": "code",
      "source": "Q8. What is the margin of error in a confidence interval? How does sample size affect the margin of error? Provide an example of a scenario where a larger sample size would result in a smaller margin of error.\n\n",
      "metadata": {
        "trusted": true
      },
      "outputs": [],
      "execution_count": null
    },
    {
      "id": "1c6021b3-d151-4007-99e3-a5ff48c14bbb",
      "cell_type": "code",
      "source": "ANSWER:----\n\nMargin of Error in a Confidence Interval\nThe margin of error in a confidence interval quantifies the uncertainty or variability of the sample estimate. It represents the maximum expected difference between the true population parameter and the sample estimate, given a specified level of confidence. The margin of error is influenced by the standard deviation of the sample, the sample size, and the desired confidence level.\n\nFormula for Margin of Error\nThe margin of error ((ME)) for a confidence interval can be calculated using the following formula for a population mean when the population standard deviation is known:\n\n[ ME = z \\left( \\frac{\\sigma}{\\sqrt{n}} \\right) ]\n\nIf the population standard deviation is unknown and the sample size is small, the formula using the t-distribution is:\n\n[ ME = t \\left( \\frac{s}{\\sqrt{n}} \\right) ]\n\nWhere:\n\n( z ) is the z-score corresponding to the desired confidence level.\n( t ) is the t-score from the t-distribution table corresponding to the desired confidence level and degrees of freedom.\n( \\sigma ) is the population standard deviation.\n( s ) is the sample standard deviation.\n( n ) is the sample size.\nEffect of Sample Size on Margin of Error\nThe sample size (( n )) has an inverse relationship with the margin of error. As the sample size increases, the margin of error decreases. This is because a larger sample size reduces the standard error (( \\frac{\\sigma}{\\sqrt{n}} ) or ( \\frac{s}{\\sqrt{n}} )), which in turn reduces the margin of error. This relationship can be understood from the formula itself, where the standard error decreases as the sample size increases.\n\nExample Scenario\nScenario: Estimating Average Heights of Students\nSuppose a researcher is estimating the average height of students in a university. Initially, they collect a sample of 30 students and find a mean height of 170 cm with a standard deviation of 10 cm. They calculate the 95% confidence interval for the mean height.\n\nInitial Calculation\nSample Size (n): 30\nSample Mean (( \\bar{x} )): 170 cm\nSample Standard Deviation (s): 10 cm\nConfidence Level: 95%\nt-Score for 95% Confidence and 29 Degrees of Freedom: Approximately 2.045\n[ ME = t \\left( \\frac{s}{\\sqrt{n}} \\right) = 2.045 \\left( \\frac{10}{\\sqrt{30}} \\right) \\approx 2.045 \\left( \\frac{10}{5.477} \\right) \\approx 3.735 ]\n\nSo, the margin of error is approximately 3.735 cm.\n\nIncreasing Sample Size\nNow, suppose the researcher decides to increase the sample size to 100 students to get a more precise estimate.\n\nNew Sample Size (n): 100\n[ ME = t \\left( \\frac{s}{\\sqrt{n}} \\right) = 1.984 \\left( \\frac{10}{\\sqrt{100}} \\right) = 1.984 \\left( \\frac{10}{10} \\right) = 1.984 ]\n\nSo, the new margin of error is approximately 1.984 cm.\n\nInterpretation\nBy increasing the sample size from 30 to 100, the margin of error decreases from 3.735 cm to 1.984 cm. This illustrates how a larger sample size results in a smaller margin of error, leading to a more precise estimate of the population mean.\n\nSummary\nThe margin of error in a confidence interval measures the uncertainty around the sample estimate. Increasing the sample size reduces the margin of error because it decreases the standard error. This relationship highlights the importance of a larger sample size in achieving more precise and reliable estimates in statistical analysis.\n\n",
      "metadata": {
        "trusted": true
      },
      "outputs": [],
      "execution_count": null
    },
    {
      "id": "4ddf4b5b-1636-4c58-a93d-79e8404b0613",
      "cell_type": "code",
      "source": "",
      "metadata": {
        "trusted": true
      },
      "outputs": [],
      "execution_count": null
    },
    {
      "id": "dd1bfa58-eaed-4ecd-9d18-92d3bbaa85ec",
      "cell_type": "code",
      "source": "Q9. Calculate the z-score for a data point with a value of 75, a population mean of 70, and a population standard deviation of 5. Interpret the results.\n\n",
      "metadata": {
        "trusted": true
      },
      "outputs": [],
      "execution_count": null
    },
    {
      "id": "a625dc43-ac3d-41aa-9006-e0549d3120aa",
      "cell_type": "code",
      "source": "ANSWER:---\n\nTo calculate the z-score for a data point, you can use the following formula:\n\n[ z = \\frac{X - \\mu}{\\sigma} ]\n\nWhere:\n\n( X ) is the value of the data point.\n( \\mu ) is the population mean.\n( \\sigma ) is the population standard deviation.\nGiven:\n\n( X = 75 )\n( \\mu = 70 )\n( \\sigma = 5 )\nCalculation\n[ z = \\frac{75 - 70}{5} = \\frac{5}{5} = 1 ]\n\nInterpretation\nThe z-score is 1. This means that the data point (value 75) is 1 standard deviation above the population mean (70).\n\nQ10. In a",
      "metadata": {
        "trusted": true
      },
      "outputs": [],
      "execution_count": null
    },
    {
      "id": "1303ad52-f578-46ac-a772-b5e29d9e57ed",
      "cell_type": "code",
      "source": "",
      "metadata": {
        "trusted": true
      },
      "outputs": [],
      "execution_count": null
    },
    {
      "id": "13b4538a-2736-4735-8740-7fa4b59c1377",
      "cell_type": "code",
      "source": "Q10. In a study of the effectiveness of a new weight loss drug, a sample of 50 participants lost an average of 6 pounds with a standard deviation of 2.5 pounds. Conduct a hypothesis test to determine if the drug is significantly effective at a 95% confidence level using a t-test.\n\n",
      "metadata": {
        "trusted": true
      },
      "outputs": [],
      "execution_count": null
    },
    {
      "id": "46ac31f3-f52f-425b-bd3f-18a77a2cbb1b",
      "cell_type": "code",
      "source": "ANSWER:---\n\nStep 1: State the Hypotheses\nNull Hypothesis (( H_0 )): The drug is not significantly effective. The mean weight loss is zero or less. [ H_0: \\mu \\leq 0 ]\n\nAlternative Hypothesis (( H_1 )): The drug is significantly effective. The mean weight loss is greater than zero. [ H_1: \\mu > 0 ]\n\nStep 2: Select the Significance Level\nThe significance level (( \\alpha )) is 0.05 (95% confidence level).\n\nStep 3: Calculate the Test Statistic\nSince the population standard deviation is not known and the sample size is less than 30, we use the t-test. The test statistic for the t-test is calculated as:\n\n[ t = \\frac{\\bar{x} - \\mu_0}{s / \\sqrt{n}} ]\n\nWhere:\n\n( \\bar{x} ) is the sample mean.\n( \\mu_0 ) is the population mean under the null hypothesis (which is 0 in this case).\n( s ) is the sample standard deviation.\n( n ) is the sample size.\nGiven:\n\n( \\bar{x} = 6 ) pounds\n( s = 2.5 ) pounds\n( n = 50 )\n( \\mu_0 = 0 )\n[ t = \\frac{6 - 0}{2.5 / \\sqrt{50}} = \\frac{6}{2.5 / 7.071} = \\frac{6}{0.3535} \\approx 16.98 ]\n\nStep 4: Determine the Critical Value\nFor a one-tailed t-test with ( n - 1 = 50 - 1 = 49 ) degrees of freedom at the 0.05 significance level, we look up the critical t-value in the t-distribution table or use a calculator. The critical value ( t_{0.05, 49} ) is approximately 1.676.\n\nStep 5: Make the Decision\nCompare the calculated t-value with the critical t-value:\n\nIf ( t ) is greater than the critical value, we reject the null hypothesis.\nIf ( t ) is less than or equal to the critical value, we fail to reject the null hypothesis.\nIn this case: [ t \\approx 16.98 > 1.676 ]\n\nStep 6: Conclusion\nSince the calculated t-value (16.98) is much greater than the critical value (1.676), we reject the null hypothesis.\n\nInterpretation\nAt the 95% confidence level, there is sufficient evidence to conclude that the new weight loss drug is significantly effective. The average weight loss of 6 pounds observed in the sample is statistically significant, indicating that the drug has a meaningful effect on weight loss.\n\n",
      "metadata": {
        "trusted": true
      },
      "outputs": [],
      "execution_count": null
    },
    {
      "id": "c7a3b4c0-cd09-459c-aadc-c6c15901970c",
      "cell_type": "code",
      "source": "",
      "metadata": {
        "trusted": true
      },
      "outputs": [],
      "execution_count": null
    },
    {
      "id": "9629f3c0-d085-49eb-897b-aa18dd16e811",
      "cell_type": "code",
      "source": "Q11. In a survey of 500 people, 65% reported being satisfied with their current job. Calculate the 95% confidence interval for the true proportion of people who are satisfied with their job.\n\n",
      "metadata": {
        "trusted": true
      },
      "outputs": [],
      "execution_count": null
    },
    {
      "id": "0f2d1079-6575-4b23-bc74-a80ca420f7af",
      "cell_type": "code",
      "source": "",
      "metadata": {
        "trusted": true
      },
      "outputs": [],
      "execution_count": null
    }
  ]
}